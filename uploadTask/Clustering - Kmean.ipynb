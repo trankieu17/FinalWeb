{
 "cells": [
  {
   "cell_type": "code",
   "execution_count": 1,
   "metadata": {},
   "outputs": [],
   "source": [
    "import numpy as np\n",
    "import matplotlib.pyplot as plt"
   ]
  },
  {
   "cell_type": "code",
   "execution_count": 2,
   "metadata": {
    "scrolled": true
   },
   "outputs": [
    {
     "name": "stdout",
     "output_type": "stream",
     "text": [
      "[18 19  3 25 15 14 25  4 12 12 15 27 19 16 10 14  7  2  0  2]\n",
      "[ 0 27 26 20 23  3 23 25 24 28 18 18  0 21  4  0 10 19 15 18]\n"
     ]
    },
    {
     "data": {
      "image/png": "[encoded data removed]",
      "text/plain": [
       "<Figure size 432x288 with 1 Axes>"
      ]
     },
     "metadata": {
      "needs_background": "light"
     },
     "output_type": "display_data"
    }
   ],
   "source": [
    "X = np.random.randint(30,size=20)\n",
    "Y = np.random.randint(30,size=20)\n",
    "print(X)\n",
    "print(Y)\n",
    "plt.plot(X,Y,'bo')\n",
    "plt.show()"
   ]
  },
  {
   "cell_type": "code",
   "execution_count": 3,
   "metadata": {},
   "outputs": [
    {
     "name": "stdout",
     "output_type": "stream",
     "text": [
      "[[18  0]\n",
      " [19 27]\n",
      " [ 3 26]\n",
      " [25 20]\n",
      " [15 23]\n",
      " [14  3]\n",
      " [25 23]\n",
      " [ 4 25]\n",
      " [12 24]\n",
      " [12 28]\n",
      " [15 18]\n",
      " [27 18]\n",
      " [19  0]\n",
      " [16 21]\n",
      " [10  4]\n",
      " [14  0]\n",
      " [ 7 10]\n",
      " [ 2 19]\n",
      " [ 0 15]\n",
      " [ 2 18]]\n"
     ]
    }
   ],
   "source": [
    "X1 = np.array([X])\n",
    "Y1 = np.array([Y])\n",
    "Z = np.concatenate((X1.T,Y1.T),axis=1)\n",
    "print(Z)"
   ]
  },
  {
   "cell_type": "code",
   "execution_count": 4,
   "metadata": {},
   "outputs": [
    {
     "data": {
      "text/plain": [
       "KMeans(n_clusters=3)"
      ]
     },
     "execution_count": 4,
     "metadata": {},
     "output_type": "execute_result"
    }
   ],
   "source": [
    "from sklearn.cluster import KMeans\n",
    "kmeans = KMeans(n_clusters=3)\n",
    "kmeans.fit(Z)"
   ]
  },
  {
   "cell_type": "code",
   "execution_count": 5,
   "metadata": {},
   "outputs": [
    {
     "name": "stdout",
     "output_type": "stream",
     "text": [
      "[[18.44444444 22.44444444]\n",
      " [15.          1.4       ]\n",
      " [ 3.         18.83333333]]\n",
      "[1 0 2 0 0 1 0 2 0 0 0 0 1 0 1 1 2 2 2 2]\n"
     ]
    }
   ],
   "source": [
    "centroid = kmeans.cluster_centers_\n",
    "labels = kmeans.labels_\n",
    "\n",
    "print (centroid)\n",
    "print(labels)"
   ]
  },
  {
   "cell_type": "code",
   "execution_count": 6,
   "metadata": {},
   "outputs": [
    {
     "name": "stdout",
     "output_type": "stream",
     "text": [
      "coordinate: [18  0] label: 1\n",
      "coordinate: [19 27] label: 0\n",
      "coordinate: [ 3 26] label: 2\n",
      "coordinate: [25 20] label: 0\n",
      "coordinate: [15 23] label: 0\n",
      "coordinate: [14  3] label: 1\n",
      "coordinate: [25 23] label: 0\n",
      "coordinate: [ 4 25] label: 2\n",
      "coordinate: [12 24] label: 0\n",
      "coordinate: [12 28] label: 0\n",
      "coordinate: [15 18] label: 0\n",
      "coordinate: [27 18] label: 0\n",
      "coordinate: [19  0] label: 1\n",
      "coordinate: [16 21] label: 0\n",
      "coordinate: [10  4] label: 1\n",
      "coordinate: [14  0] label: 1\n",
      "coordinate: [ 7 10] label: 2\n",
      "coordinate: [ 2 19] label: 2\n",
      "coordinate: [ 0 15] label: 2\n",
      "coordinate: [ 2 18] label: 2\n"
     ]
    },
    {
     "data": {
      "image/png": "[encoded data removed]",
      "text/plain": [
       "<Figure size 432x288 with 1 Axes>"
      ]
     },
     "metadata": {
      "needs_background": "light"
     },
     "output_type": "display_data"
    }
   ],
   "source": [
    "colors = [\"g.\",\"r.\",\"c.\"]\n",
    "\n",
    "for i in range(len(Z)):\n",
    "   print (\"coordinate:\" , Z[i], \"label:\", labels[i])\n",
    "   plt.plot(Z[i][0],Z[i][1],colors[labels[i]],markersize=10)\n",
    "\n",
    "plt.scatter(centroid[:,0],centroid[:,1], marker = \"x\", s=150, linewidths = 5, zorder =10)\n",
    "\n",
    "plt.show()"
   ]
  },
  {
   "cell_type": "code",
   "execution_count": 7,
   "metadata": {},
   "outputs": [],
   "source": [
    "# Kmedoids"
   ]
  },
  {
   "cell_type": "code",
   "execution_count": 8,
   "metadata": {},
   "outputs": [
    {
     "data": {
      "text/plain": [
       "KMedoids(n_clusters=3)"
      ]
     },
     "execution_count": 8,
     "metadata": {},
     "output_type": "execute_result"
    }
   ],
   "source": [
    "from sklearn_extra.cluster import KMedoids\n",
    "kmedoids = KMedoids(n_clusters=3)\n",
    "kmedoids.fit(Z)"
   ]
  },
  {
   "cell_type": "code",
   "execution_count": 9,
   "metadata": {},
   "outputs": [
    {
     "name": "stdout",
     "output_type": "stream",
     "text": [
      "[[18.44444444 22.44444444]\n",
      " [15.          1.4       ]\n",
      " [ 3.         18.83333333]]\n",
      "[1 0 2 0 0 1 0 2 0 0 0 0 1 0 1 1 2 2 2 2]\n"
     ]
    }
   ],
   "source": [
    "centroid = kmeans.cluster_centers_\n",
    "labels = kmeans.labels_\n",
    "\n",
    "print (centroid)\n",
    "print(labels)"
   ]
  },
  {
   "cell_type": "code",
   "execution_count": 10,
   "metadata": {},
   "outputs": [
    {
     "data": {
      "image/png": "[encoded data removed]",
      "text/plain": [
       "<Figure size 432x288 with 1 Axes>"
      ]
     },
     "metadata": {
      "needs_background": "light"
     },
     "output_type": "display_data"
    }
   ],
   "source": [
    "colors = [\"g.\",\"r.\",\"c.\"]\n",
    "for i in range(len(Z)):\n",
    "   #print (\"coordinate:\" , Z[i], \"label:\", labels[i])\n",
    "   plt.plot(Z[i][0],Z[i][1],colors[labels[i]],markersize=10)\n",
    "plt.scatter(centroid[:,0],centroid[:,1], marker = \"x\", s=150, linewidths = 5, zorder =10)\n",
    "plt.show()"
   ]
  },
  {
   "cell_type": "code",
   "execution_count": null,
   "metadata": {},
   "outputs": [],
   "source": []
  }
 ],
 "metadata": {
  "kernelspec": {
   "display_name": "Python 3",
   "language": "python",
   "name": "python3"
  },
  "language_info": {
   "codemirror_mode": {
    "name": "ipython",
    "version": 3
   },
   "file_extension": ".py",
   "mimetype": "text/x-python",
   "name": "python",
   "nbconvert_exporter": "python",
   "pygments_lexer": "ipython3",
   "version": "3.8.5"
  }
 },
 "nbformat": 4,
 "nbformat_minor": 2
}
