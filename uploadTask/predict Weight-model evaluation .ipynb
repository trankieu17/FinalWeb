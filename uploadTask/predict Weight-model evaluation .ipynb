{
 "cells": [
  {
   "cell_type": "code",
   "execution_count": 1,
   "metadata": {},
   "outputs": [],
   "source": [
    "import numpy as np"
   ]
  },
  {
   "cell_type": "code",
   "execution_count": 13,
   "metadata": {},
   "outputs": [],
   "source": [
    "height = np.array([[5,5.11,5.6,5.9,4.8,5.8,5.3,5.8,5.5,5.6]])\n",
    "age = np.array([[45,26,30,34,40,36,19,28,23,32]])\n",
    "#label = np.array(['H','L','M','M','H','M','L','M','L','M'])\n",
    "y = np.array([77,47,55,59,72,60,40,60,45,58])\n",
    "test_x=5.5\n",
    "test_y=38"
   ]
  },
  {
   "cell_type": "code",
   "execution_count": 14,
   "metadata": {},
   "outputs": [
    {
     "name": "stdout",
     "output_type": "stream",
     "text": [
      "(10, 1)\n",
      "(10, 1)\n",
      "(10, 2)\n",
      "[[ 5.   45.  ]\n",
      " [ 5.11 26.  ]\n",
      " [ 5.6  30.  ]\n",
      " [ 5.9  34.  ]\n",
      " [ 4.8  40.  ]\n",
      " [ 5.8  36.  ]\n",
      " [ 5.3  19.  ]\n",
      " [ 5.8  28.  ]\n",
      " [ 5.5  23.  ]\n",
      " [ 5.6  32.  ]]\n"
     ]
    }
   ],
   "source": [
    "# gộp height và age vào thành dữ liệu input có 2 thuộc tính \n",
    "height = height.T # chuyển vị ma trận\n",
    "age = age.T\n",
    "print(height.shape)\n",
    "print(age.shape)\n",
    "X = np.concatenate((height,age), axis=1)\n",
    "print(X.shape)\n",
    "print(X)"
   ]
  },
  {
   "cell_type": "code",
   "execution_count": 15,
   "metadata": {},
   "outputs": [
    {
     "name": "stdout",
     "output_type": "stream",
     "text": [
      "[[0.18181818 1.        ]\n",
      " [0.28181818 0.26923077]\n",
      " [0.72727273 0.42307692]\n",
      " [1.         0.57692308]\n",
      " [0.         0.80769231]\n",
      " [0.90909091 0.65384615]\n",
      " [0.45454545 0.        ]\n",
      " [0.90909091 0.34615385]\n",
      " [0.63636364 0.15384615]\n",
      " [0.72727273 0.5       ]]\n"
     ]
    }
   ],
   "source": [
    "#normalization về khoảng [0,1] \n",
    "from sklearn.preprocessing import MinMaxScaler\n",
    "minmax = MinMaxScaler()\n",
    "X = minmax.fit_transform(X)\n",
    "print(X)"
   ]
  },
  {
   "cell_type": "code",
   "execution_count": 16,
   "metadata": {},
   "outputs": [
    {
     "name": "stdout",
     "output_type": "stream",
     "text": [
      "Train:\n",
      "(7, 2)\n",
      "(7,)\n",
      "Test:\n",
      "(3, 2)\n",
      "(3,)\n"
     ]
    }
   ],
   "source": [
    "from sklearn.model_selection import train_test_split\n",
    "X_train, X_test, y_train, y_test = train_test_split(\\\n",
    "    X, y, test_size=0.3, random_state=42)\n",
    "\n",
    "print('Train:')\n",
    "print(X_train.shape)\n",
    "print(y_train.shape)\n",
    "print('Test:')\n",
    "print(X_test.shape)\n",
    "print(y_test.shape)"
   ]
  },
  {
   "cell_type": "code",
   "execution_count": 19,
   "metadata": {},
   "outputs": [
    {
     "data": {
      "text/plain": [
       "KNeighborsRegressor(algorithm='auto', leaf_size=30, metric='minkowski',\n",
       "                    metric_params=None, n_jobs=None, n_neighbors=3, p=2,\n",
       "                    weights='uniform')"
      ]
     },
     "execution_count": 19,
     "metadata": {},
     "output_type": "execute_result"
    }
   ],
   "source": [
    "# Regression\n",
    "from sklearn.neighbors import KNeighborsRegressor\n",
    "model2 = KNeighborsRegressor(n_neighbors=3)\n",
    "# training process\n",
    "model2.fit(X_train, y_train)"
   ]
  },
  {
   "cell_type": "code",
   "execution_count": 21,
   "metadata": {},
   "outputs": [
    {
     "name": "stdout",
     "output_type": "stream",
     "text": [
      "45 51.666666666666664\n",
      "47 51.0\n",
      "60 57.333333333333336\n"
     ]
    }
   ],
   "source": [
    "y_pred = model2.predict(X_test)\n",
    "for i in range(len(y_test)):\n",
    "    print(y_test[i],y_pred[i])"
   ]
  },
  {
   "cell_type": "code",
   "execution_count": 24,
   "metadata": {},
   "outputs": [
    {
     "name": "stdout",
     "output_type": "stream",
     "text": [
      "22.518518518518505\n",
      "4.745368112013915\n"
     ]
    }
   ],
   "source": [
    "from sklearn.metrics import mean_squared_error\n",
    "import math\n",
    "error = mean_squared_error(y_test,y_pred)\n",
    "print(error)\n",
    "print(math.sqrt(error))"
   ]
  },
  {
   "cell_type": "code",
   "execution_count": null,
   "metadata": {},
   "outputs": [],
   "source": []
  }
 ],
 "metadata": {
  "kernelspec": {
   "display_name": "Python 3",
   "language": "python",
   "name": "python3"
  },
  "language_info": {
   "codemirror_mode": {
    "name": "ipython",
    "version": 3
   },
   "file_extension": ".py",
   "mimetype": "text/x-python",
   "name": "python",
   "nbconvert_exporter": "python",
   "pygments_lexer": "ipython3",
   "version": "3.9.1"
  }
 },
 "nbformat": 4,
 "nbformat_minor": 2
}
